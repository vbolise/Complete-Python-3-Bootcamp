{
  "cells": [
    {
      "cell_type": "markdown",
      "metadata": {
        "id": "M775zm0Gb9vZ"
      },
      "source": [
        "___\n",
        "\n",
        "<a href='https://www.udemy.com/user/joseportilla/'><img src='https://github.com/vbolise/Complete-Python-3-Bootcamp/blob/master/00-Python%20Object%20and%20Data%20Structure%20Basics/Pierian_Data_Logo.png?raw=1'/></a>\n",
        "___\n",
        "<center><em>Content Copyright by Pierian Data</em></center>\n",
        "# Objects and Data Structures Assessment Test"
      ]
    },
    {
      "cell_type": "markdown",
      "metadata": {
        "collapsed": true,
        "id": "Tyz9YXqEb9vb"
      },
      "source": [
        "## Test your knowledge. \n",
        "\n",
        "** Answer the following questions **"
      ]
    },
    {
      "cell_type": "markdown",
      "metadata": {
        "collapsed": true,
        "id": "82abPoCGb9vb"
      },
      "source": [
        "Write (or just say out loud to yourself) a brief description of all the following Object Types and Data Structures we've learned about. You can edit the cell below by double clicking on it. Really this is just to test if you know the difference between these, so feel free to just think about it, since your answers are self-graded."
      ]
    },
    {
      "cell_type": "markdown",
      "metadata": {
        "id": "3KDJQbDGb9vb"
      },
      "source": [
        "Double Click HERE to edit this markdown cell and write answers.\n",
        "\n",
        "Numbers: It incudes integers, floats\n",
        "\n",
        "Strings: consists of letters and words\n",
        "\n",
        "Lists: Enclosed in square brackets [ ] and it may contain numbers, strings, sub lists, tuples which are mutable\n",
        "\n",
        "Tuples: Enclosed in () which cannot be changed later but acceasble through index\n",
        "\n",
        "Dictionaries: it consists of ket value pairs and represented by {} and these are mutable. these can be acceble by using .keys, .values, and .items\n"
      ]
    },
    {
      "cell_type": "markdown",
      "metadata": {
        "id": "7G0m9Sf2b9vb"
      },
      "source": [
        "## Numbers\n",
        "\n",
        "Write an equation that uses multiplication, division, an exponent, addition, and subtraction that is equal to 100.25.\n",
        "\n",
        "Hint: This is just to test your memory of the basic arithmetic commands, work backwards from 100.25"
      ]
    },
    {
      "cell_type": "code",
      "execution_count": 3,
      "metadata": {
        "collapsed": true,
        "id": "XbdWLCa_b9vc",
        "outputId": "f179104c-6109-42de-dcad-2c0d86c07b0a",
        "colab": {
          "base_uri": "https://localhost:8080/"
        }
      },
      "outputs": [
        {
          "output_type": "execute_result",
          "data": {
            "text/plain": [
              "100.25"
            ]
          },
          "metadata": {},
          "execution_count": 3
        }
      ],
      "source": [
        "60+25+1/4+5*5-10"
      ]
    },
    {
      "cell_type": "markdown",
      "metadata": {
        "id": "Dfl2-5P4b9vc"
      },
      "source": [
        "Answer these 3 questions without typing code. Then type code to check your answer.\n",
        "\n",
        "    What is the value of the expression 4 * (6 + 5)\n",
        "    \n",
        "    What is the value of the expression 4 * 6 + 5 \n",
        "    \n",
        "    What is the value of the expression 4 + 6 * 5 "
      ]
    },
    {
      "cell_type": "code",
      "execution_count": 4,
      "metadata": {
        "collapsed": true,
        "id": "qFQdmbR8b9vc",
        "outputId": "92ea1c02-8e56-47ad-f907-6414e7253e9a",
        "colab": {
          "base_uri": "https://localhost:8080/"
        }
      },
      "outputs": [
        {
          "output_type": "execute_result",
          "data": {
            "text/plain": [
              "34"
            ]
          },
          "metadata": {},
          "execution_count": 4
        }
      ],
      "source": [
        "44\n",
        "29\n",
        "34"
      ]
    },
    {
      "cell_type": "markdown",
      "metadata": {
        "id": "oMe5nmhkb9vc"
      },
      "source": [
        "What is the *type* of the result of the expression 3 + 1.5 + 4?<br><br>\n",
        "\n",
        "Float"
      ]
    },
    {
      "cell_type": "markdown",
      "metadata": {
        "id": "Zor2Q3kjb9vc"
      },
      "source": [
        "What would you use to find a number’s square root, as well as its square? "
      ]
    },
    {
      "cell_type": "code",
      "execution_count": 5,
      "metadata": {
        "collapsed": true,
        "id": "MioIVLDlb9vd"
      },
      "outputs": [],
      "source": [
        "# Square root:^\n"
      ]
    },
    {
      "cell_type": "code",
      "execution_count": 6,
      "metadata": {
        "collapsed": true,
        "id": "fBYg9xWfb9vd"
      },
      "outputs": [],
      "source": [
        "# Square: ^\n"
      ]
    },
    {
      "cell_type": "markdown",
      "metadata": {
        "id": "soGsEje6b9vd"
      },
      "source": [
        "## Strings"
      ]
    },
    {
      "cell_type": "markdown",
      "metadata": {
        "id": "RF_oNj9jb9vd"
      },
      "source": [
        "Given the string 'hello' give an index command that returns 'e'. Enter your code in the cell below:"
      ]
    },
    {
      "cell_type": "code",
      "execution_count": 7,
      "metadata": {
        "collapsed": true,
        "id": "pmkuNNZsb9vd",
        "outputId": "4a431599-721f-4cb9-c588-19c5f463a811",
        "colab": {
          "base_uri": "https://localhost:8080/",
          "height": 35
        }
      },
      "outputs": [
        {
          "output_type": "execute_result",
          "data": {
            "text/plain": [
              "'e'"
            ],
            "application/vnd.google.colaboratory.intrinsic+json": {
              "type": "string"
            }
          },
          "metadata": {},
          "execution_count": 7
        }
      ],
      "source": [
        "s = 'hello'\n",
        "# Print out 'e' using indexing\n",
        "s[1]\n",
        "\n"
      ]
    },
    {
      "cell_type": "markdown",
      "metadata": {
        "id": "7ohOf4wTb9vd"
      },
      "source": [
        "Reverse the string 'hello' using slicing:"
      ]
    },
    {
      "cell_type": "code",
      "execution_count": 8,
      "metadata": {
        "collapsed": true,
        "id": "wJg15c2Wb9vd",
        "outputId": "5178dfc2-4b3c-488d-b4c9-bb294f696f93",
        "colab": {
          "base_uri": "https://localhost:8080/",
          "height": 35
        }
      },
      "outputs": [
        {
          "output_type": "execute_result",
          "data": {
            "text/plain": [
              "'olleh'"
            ],
            "application/vnd.google.colaboratory.intrinsic+json": {
              "type": "string"
            }
          },
          "metadata": {},
          "execution_count": 8
        }
      ],
      "source": [
        "s ='hello'\n",
        "# Reverse the string using slicing\n",
        "s[::-1]\n",
        "\n"
      ]
    },
    {
      "cell_type": "markdown",
      "metadata": {
        "id": "qwrkihGWb9ve"
      },
      "source": [
        "Given the string hello, give two methods of producing the letter 'o' using indexing."
      ]
    },
    {
      "cell_type": "code",
      "execution_count": 9,
      "metadata": {
        "collapsed": true,
        "id": "iLzRq57Pb9ve",
        "outputId": "5d279681-666a-400c-9d82-5c02e2ce8835",
        "colab": {
          "base_uri": "https://localhost:8080/",
          "height": 35
        }
      },
      "outputs": [
        {
          "output_type": "execute_result",
          "data": {
            "text/plain": [
              "'o'"
            ],
            "application/vnd.google.colaboratory.intrinsic+json": {
              "type": "string"
            }
          },
          "metadata": {},
          "execution_count": 9
        }
      ],
      "source": [
        "s ='hello'\n",
        "# Print out the 'o'\n",
        "\n",
        "# Method 1:\n",
        "s[4]\n",
        "\n"
      ]
    },
    {
      "cell_type": "code",
      "execution_count": 12,
      "metadata": {
        "collapsed": true,
        "id": "oZtJaMKvb9ve",
        "outputId": "7aeca9a7-74d3-4d5c-8ddb-62af5745d8d5",
        "colab": {
          "base_uri": "https://localhost:8080/",
          "height": 35
        }
      },
      "outputs": [
        {
          "output_type": "execute_result",
          "data": {
            "text/plain": [
              "'o'"
            ],
            "application/vnd.google.colaboratory.intrinsic+json": {
              "type": "string"
            }
          },
          "metadata": {},
          "execution_count": 12
        }
      ],
      "source": [
        "# Method 2:\n",
        "s[-1]\n",
        "\n"
      ]
    },
    {
      "cell_type": "markdown",
      "metadata": {
        "id": "r2wxdMeBb9ve"
      },
      "source": [
        "## Lists"
      ]
    },
    {
      "cell_type": "markdown",
      "metadata": {
        "id": "yACH-Egpb9ve"
      },
      "source": [
        "Build this list [0,0,0] two separate ways."
      ]
    },
    {
      "cell_type": "code",
      "execution_count": 13,
      "metadata": {
        "collapsed": true,
        "id": "BsleUAZHb9ve",
        "outputId": "a98f7385-562a-4352-d0bb-b80b75d2558f",
        "colab": {
          "base_uri": "https://localhost:8080/"
        }
      },
      "outputs": [
        {
          "output_type": "execute_result",
          "data": {
            "text/plain": [
              "[0, 0, 0]"
            ]
          },
          "metadata": {},
          "execution_count": 13
        }
      ],
      "source": [
        "# Method 1:\n",
        "[0,0,0]\n"
      ]
    },
    {
      "cell_type": "code",
      "execution_count": 14,
      "metadata": {
        "collapsed": true,
        "id": "GWcWvvGcb9ve",
        "outputId": "b9186fd2-2976-4650-db79-5382dace70fc",
        "colab": {
          "base_uri": "https://localhost:8080/"
        }
      },
      "outputs": [
        {
          "output_type": "execute_result",
          "data": {
            "text/plain": [
              "[0, 0, 0]"
            ]
          },
          "metadata": {},
          "execution_count": 14
        }
      ],
      "source": [
        "# Method 2:\n",
        "[0,0] +[0]\n"
      ]
    },
    {
      "cell_type": "markdown",
      "metadata": {
        "id": "-M-gWHG6b9ve"
      },
      "source": [
        "Reassign 'hello' in this nested list to say 'goodbye' instead:"
      ]
    },
    {
      "cell_type": "code",
      "execution_count": 16,
      "metadata": {
        "collapsed": true,
        "id": "02xyvPuZb9ve",
        "outputId": "cdd03429-22b9-49aa-b7ca-c7f3580b69e3",
        "colab": {
          "base_uri": "https://localhost:8080/"
        }
      },
      "outputs": [
        {
          "output_type": "execute_result",
          "data": {
            "text/plain": [
              "[1, 2, [3, 4, 'goodbye']]"
            ]
          },
          "metadata": {},
          "execution_count": 16
        }
      ],
      "source": [
        "list3 = [1,2,[3,4,'hello']]\n",
        "list3[2][2] = 'goodbye'\n",
        "list3\n",
        "\n"
      ]
    },
    {
      "cell_type": "markdown",
      "metadata": {
        "id": "_WMNSNnjb9ve"
      },
      "source": [
        "Sort the list below:"
      ]
    },
    {
      "cell_type": "code",
      "execution_count": 18,
      "metadata": {
        "collapsed": true,
        "id": "jS4aSAuBb9ve",
        "outputId": "71428d0b-3101-424f-dfc9-7f984cedf3f9",
        "colab": {
          "base_uri": "https://localhost:8080/"
        }
      },
      "outputs": [
        {
          "output_type": "execute_result",
          "data": {
            "text/plain": [
              "[1, 3, 4, 5, 6]"
            ]
          },
          "metadata": {},
          "execution_count": 18
        }
      ],
      "source": [
        "list4 = [5,3,4,6,1]\n",
        "list4.sort()\n",
        "list4\n",
        "\n"
      ]
    },
    {
      "cell_type": "markdown",
      "metadata": {
        "id": "XcgStmnzb9ve"
      },
      "source": [
        "## Dictionaries"
      ]
    },
    {
      "cell_type": "markdown",
      "metadata": {
        "id": "UL9JGO4Db9ve"
      },
      "source": [
        "Using keys and indexing, grab the 'hello' from the following dictionaries:"
      ]
    },
    {
      "cell_type": "code",
      "execution_count": 24,
      "metadata": {
        "collapsed": true,
        "id": "RBsAtgoRb9ve",
        "outputId": "d162ab63-f371-4f2e-c840-1bd6e27111c8",
        "colab": {
          "base_uri": "https://localhost:8080/",
          "height": 35
        }
      },
      "outputs": [
        {
          "output_type": "execute_result",
          "data": {
            "text/plain": [
              "'hello'"
            ],
            "application/vnd.google.colaboratory.intrinsic+json": {
              "type": "string"
            }
          },
          "metadata": {},
          "execution_count": 24
        }
      ],
      "source": [
        "d = {'simple_key':'hello'}\n",
        "# Grab 'hello'\n",
        "d['simple_key']\n"
      ]
    },
    {
      "cell_type": "code",
      "execution_count": 23,
      "metadata": {
        "collapsed": true,
        "id": "-ZPvC1bfb9ve",
        "outputId": "96a234a7-2ed2-4f11-9110-c1d8334b50ba",
        "colab": {
          "base_uri": "https://localhost:8080/",
          "height": 35
        }
      },
      "outputs": [
        {
          "output_type": "execute_result",
          "data": {
            "text/plain": [
              "'hello'"
            ],
            "application/vnd.google.colaboratory.intrinsic+json": {
              "type": "string"
            }
          },
          "metadata": {},
          "execution_count": 23
        }
      ],
      "source": [
        "d = {'k1':{'k2':'hello'}}\n",
        "# Grab 'hello'\n",
        "d['k1']['k2']\n"
      ]
    },
    {
      "cell_type": "code",
      "execution_count": 26,
      "metadata": {
        "collapsed": true,
        "id": "042iCE8-b9ve",
        "outputId": "8c8db62c-f897-430e-d6bb-9a8c325084e7",
        "colab": {
          "base_uri": "https://localhost:8080/"
        }
      },
      "outputs": [
        {
          "output_type": "execute_result",
          "data": {
            "text/plain": [
              "['hello']"
            ]
          },
          "metadata": {},
          "execution_count": 26
        }
      ],
      "source": [
        "# Getting a little tricker\n",
        "d = {'k1':[{'nest_key':['this is deep',['hello']]}]}\n",
        "\n",
        "#Grab hello\n",
        "d['k1'][0]['nest_key'][1]"
      ]
    },
    {
      "cell_type": "code",
      "execution_count": 27,
      "metadata": {
        "collapsed": true,
        "id": "LuOjXQijb9ve",
        "outputId": "fbebf6c1-106d-4ab3-d9a0-8fd210c17e70",
        "colab": {
          "base_uri": "https://localhost:8080/"
        }
      },
      "outputs": [
        {
          "output_type": "execute_result",
          "data": {
            "text/plain": [
              "['hello']"
            ]
          },
          "metadata": {},
          "execution_count": 27
        }
      ],
      "source": [
        "# This will be hard and annoying!\n",
        "d = {'k1':[1,2,{'k2':['this is tricky',{'tough':[1,2,['hello']]}]}]}\n",
        "\n",
        "d['k1'][2]['k2'][1]['tough'][2]"
      ]
    },
    {
      "cell_type": "markdown",
      "metadata": {
        "id": "YCqRx38kb9ve"
      },
      "source": [
        "Can you sort a dictionary? Why or why not?<br><br>\n",
        "\n",
        "we can not sort a dictionary as it is un-ordered"
      ]
    },
    {
      "cell_type": "markdown",
      "metadata": {
        "id": "2-J1nm7Vb9ve"
      },
      "source": [
        "## Tuples"
      ]
    },
    {
      "cell_type": "markdown",
      "metadata": {
        "id": "4w4rWkpWb9vf"
      },
      "source": [
        "What is the major difference between tuples and lists?<br><br>\n",
        "Lists are mutable while the tuples are immutable"
      ]
    },
    {
      "cell_type": "markdown",
      "metadata": {
        "id": "dFmOdj52b9vf"
      },
      "source": [
        "How do you create a tuple?<br><br>\n",
        "\n",
        "By using ()"
      ]
    },
    {
      "cell_type": "markdown",
      "metadata": {
        "id": "iJRNL48Yb9vf"
      },
      "source": [
        "## Sets "
      ]
    },
    {
      "cell_type": "markdown",
      "metadata": {
        "id": "sNSV1bD6b9vf"
      },
      "source": [
        "What is unique about a set?<br><br>\n",
        "\n",
        "It doesn't support repeatations and the values are displayed only once irrespective of how many times the value is present in the list"
      ]
    },
    {
      "cell_type": "markdown",
      "metadata": {
        "id": "Y8g6yL16b9vf"
      },
      "source": [
        "Use a set to find the unique values of the list below:"
      ]
    },
    {
      "cell_type": "code",
      "execution_count": 28,
      "metadata": {
        "collapsed": true,
        "id": "pKCOCtAkb9vf",
        "outputId": "a86ced08-c263-4558-d638-624858720171",
        "colab": {
          "base_uri": "https://localhost:8080/"
        }
      },
      "outputs": [
        {
          "output_type": "execute_result",
          "data": {
            "text/plain": [
              "{1, 2, 3, 4, 11, 22, 33}"
            ]
          },
          "metadata": {},
          "execution_count": 28
        }
      ],
      "source": [
        "list5 = [1,2,2,33,4,4,11,22,3,3,2]\n",
        "\n",
        "set(list5)\n",
        "\n"
      ]
    },
    {
      "cell_type": "markdown",
      "metadata": {
        "id": "c3HA9z7Pb9vf"
      },
      "source": [
        "## Booleans"
      ]
    },
    {
      "cell_type": "markdown",
      "metadata": {
        "id": "S9Mq1ytub9vf"
      },
      "source": [
        "For the following quiz questions, we will get a preview of comparison operators. In the table below, a=3 and b=4.\n",
        "\n",
        "<table class=\"table table-bordered\">\n",
        "<tr>\n",
        "<th style=\"width:10%\">Operator</th><th style=\"width:45%\">Description</th><th>Example</th>\n",
        "</tr>\n",
        "<tr>\n",
        "<td>==</td>\n",
        "<td>If the values of two operands are equal, then the condition becomes true.</td>\n",
        "<td> (a == b) is not true.</td>\n",
        "</tr>\n",
        "<tr>\n",
        "<td>!=</td>\n",
        "<td>If values of two operands are not equal, then condition becomes true.</td>\n",
        "<td> (a != b) is true.</td>\n",
        "</tr>\n",
        "<tr>\n",
        "<td>&gt;</td>\n",
        "<td>If the value of left operand is greater than the value of right operand, then condition becomes true.</td>\n",
        "<td> (a &gt; b) is not true.</td>\n",
        "</tr>\n",
        "<tr>\n",
        "<td>&lt;</td>\n",
        "<td>If the value of left operand is less than the value of right operand, then condition becomes true.</td>\n",
        "<td> (a &lt; b) is true.</td>\n",
        "</tr>\n",
        "<tr>\n",
        "<td>&gt;=</td>\n",
        "<td>If the value of left operand is greater than or equal to the value of right operand, then condition becomes true.</td>\n",
        "<td> (a &gt;= b) is not true. </td>\n",
        "</tr>\n",
        "<tr>\n",
        "<td>&lt;=</td>\n",
        "<td>If the value of left operand is less than or equal to the value of right operand, then condition becomes true.</td>\n",
        "<td> (a &lt;= b) is true. </td>\n",
        "</tr>\n",
        "</table>"
      ]
    },
    {
      "cell_type": "markdown",
      "metadata": {
        "id": "gpFzvSTjb9vf"
      },
      "source": [
        "What will be the resulting Boolean of the following pieces of code (answer fist then check by typing it in!)"
      ]
    },
    {
      "cell_type": "code",
      "execution_count": 29,
      "metadata": {
        "collapsed": true,
        "id": "1UhunW-Gb9vf",
        "outputId": "e7afbf0f-e1ba-435b-c043-4b9737f07ac2",
        "colab": {
          "base_uri": "https://localhost:8080/"
        }
      },
      "outputs": [
        {
          "output_type": "execute_result",
          "data": {
            "text/plain": [
              "False"
            ]
          },
          "metadata": {},
          "execution_count": 29
        }
      ],
      "source": [
        "# Answer before running cell\n",
        "2 > 3\n",
        "False"
      ]
    },
    {
      "cell_type": "code",
      "execution_count": 30,
      "metadata": {
        "collapsed": true,
        "id": "08OdT7Vgb9vf",
        "outputId": "a846e3f6-43d6-4f91-c10c-cfc212b98825",
        "colab": {
          "base_uri": "https://localhost:8080/"
        }
      },
      "outputs": [
        {
          "output_type": "execute_result",
          "data": {
            "text/plain": [
              "False"
            ]
          },
          "metadata": {},
          "execution_count": 30
        }
      ],
      "source": [
        "# Answer before running cell\n",
        "3 <= 2\n",
        "False"
      ]
    },
    {
      "cell_type": "code",
      "execution_count": 31,
      "metadata": {
        "collapsed": true,
        "id": "PdHs_NbCb9vf",
        "outputId": "c2b3033e-18d0-460d-bcb1-279ea9fdb501",
        "colab": {
          "base_uri": "https://localhost:8080/"
        }
      },
      "outputs": [
        {
          "output_type": "execute_result",
          "data": {
            "text/plain": [
              "False"
            ]
          },
          "metadata": {},
          "execution_count": 31
        }
      ],
      "source": [
        "# Answer before running cell\n",
        "3 == 2.0\n",
        "False"
      ]
    },
    {
      "cell_type": "code",
      "execution_count": 32,
      "metadata": {
        "collapsed": true,
        "id": "euky1LeZb9vf",
        "outputId": "284ea3e9-63ab-4db1-e960-28dd0278c094",
        "colab": {
          "base_uri": "https://localhost:8080/"
        }
      },
      "outputs": [
        {
          "output_type": "execute_result",
          "data": {
            "text/plain": [
              "True"
            ]
          },
          "metadata": {},
          "execution_count": 32
        }
      ],
      "source": [
        "# Answer before running cell\n",
        "3.0 == 3\n",
        "True"
      ]
    },
    {
      "cell_type": "code",
      "execution_count": 33,
      "metadata": {
        "collapsed": true,
        "id": "7_iSYrk4b9vf",
        "outputId": "2a24da23-6a13-4827-d31e-7650034ea3eb",
        "colab": {
          "base_uri": "https://localhost:8080/"
        }
      },
      "outputs": [
        {
          "output_type": "execute_result",
          "data": {
            "text/plain": [
              "False"
            ]
          },
          "metadata": {},
          "execution_count": 33
        }
      ],
      "source": [
        "# Answer before running cell\n",
        "4**0.5 != 2\n",
        "False"
      ]
    },
    {
      "cell_type": "markdown",
      "metadata": {
        "id": "ZC-EbTqKb9vf"
      },
      "source": [
        "Final Question: What is the boolean output of the cell block below?"
      ]
    },
    {
      "cell_type": "code",
      "execution_count": 34,
      "metadata": {
        "collapsed": true,
        "id": "ktwd7Buub9vf",
        "outputId": "64fd10cc-d91a-4a88-9dd9-a4818fc62748",
        "colab": {
          "base_uri": "https://localhost:8080/"
        }
      },
      "outputs": [
        {
          "output_type": "execute_result",
          "data": {
            "text/plain": [
              "False"
            ]
          },
          "metadata": {},
          "execution_count": 34
        }
      ],
      "source": [
        "# two nested lists\n",
        "l_one = [1,2,[3,4]]\n",
        "l_two = [1,2,{'k1':4}]\n",
        "\n",
        "# True or False?\n",
        "l_one[2][0] >= l_two[2]['k1']\n",
        "\n",
        "False"
      ]
    },
    {
      "cell_type": "markdown",
      "metadata": {
        "id": "bR-FAJ8Zb9vf"
      },
      "source": [
        "## Great Job on your first assessment! "
      ]
    }
  ],
  "metadata": {
    "anaconda-cloud": {},
    "kernelspec": {
      "display_name": "Python 3",
      "language": "python",
      "name": "python3"
    },
    "language_info": {
      "codemirror_mode": {
        "name": "ipython",
        "version": 3
      },
      "file_extension": ".py",
      "mimetype": "text/x-python",
      "name": "python",
      "nbconvert_exporter": "python",
      "pygments_lexer": "ipython3",
      "version": "3.6.6"
    },
    "colab": {
      "provenance": []
    }
  },
  "nbformat": 4,
  "nbformat_minor": 0
}